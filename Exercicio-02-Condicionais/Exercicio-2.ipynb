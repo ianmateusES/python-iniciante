{
 "cells": [
  {
   "cell_type": "markdown",
   "id": "assigned-grove",
   "metadata": {},
   "source": [
    "# Exercício 2"
   ]
  },
  {
   "cell_type": "markdown",
   "id": "invisible-aerospace",
   "metadata": {},
   "source": [
    "## 1. Leia a idade do usuário e classifique-o em:\n",
    "- Criança – 0 a 12 anos\n",
    "- Adolescente – 13 a 17 anos\n",
    "- Adulto – acima de 18 anos\n",
    "- Se o usuário digitar um número negativo, mostrar a mensagem que a idade é inválida"
   ]
  },
  {
   "cell_type": "code",
   "execution_count": 4,
   "id": "actual-software",
   "metadata": {},
   "outputs": [
    {
     "name": "stdin",
     "output_type": "stream",
     "text": [
      "Digite sua idade: 10\n"
     ]
    },
    {
     "name": "stdout",
     "output_type": "stream",
     "text": [
      "Criança\n"
     ]
    }
   ],
   "source": [
    "# Leitura da idade\n",
    "idade = int(input('Digite sua idade:'))\n",
    "\n",
    "print('\\n')\n",
    "\n",
    "# Logica de classificação de idade\n",
    "if 0 <= idade <= 12:\n",
    "    print('Criança')\n",
    "elif 13 <= idade <= 17:\n",
    "    print('Adolescente')\n",
    "elif idade >= 18:\n",
    "    print('Adulto')\n",
    "else:\n",
    "    print('Idade inválida')"
   ]
  },
  {
   "cell_type": "code",
   "execution_count": null,
   "id": "occasional-bottle",
   "metadata": {},
   "outputs": [],
   "source": []
  },
  {
   "cell_type": "markdown",
   "id": "intense-prefix",
   "metadata": {},
   "source": [
    "## 2. Calcular a média de um aluno que cursou a disciplina de Programação I, a partir da leitura das notas M1, M2 e M3; passando por um cálculo da média aritmética. Após a média calculada, devemos anunciar se o aluno foi aprovado, reprovado ou pegou exame:\n",
    "\n",
    "- Se a média estiver entre 0.0 e 4.0, o aluno está reprovado\n",
    "- Se a média estiver entre 4.1 e 6.0, o aluno pegou exame\n",
    "- Se a média for maior do que 6.0, o aluno está aprovado\n",
    "- Se o aluno pegou exame, deve ser lida a nota do exame. Se a nota do exame for maior do que 6.0, está aprovado, senão; está reprovado"
   ]
  },
  {
   "cell_type": "code",
   "execution_count": 8,
   "id": "bibliographic-combine",
   "metadata": {},
   "outputs": [
    {
     "name": "stdin",
     "output_type": "stream",
     "text": [
      "Digite a nota M1: 8\n",
      "Digite a nota M2: 6\n",
      "Digite a nota M3: 4\n"
     ]
    },
    {
     "name": "stdout",
     "output_type": "stream",
     "text": [
      "\n",
      "\n",
      "Média: 6.0\n",
      "Pegou o exame\n"
     ]
    },
    {
     "name": "stdin",
     "output_type": "stream",
     "text": [
      "Digite a nota do exame: 7\n"
     ]
    },
    {
     "name": "stdout",
     "output_type": "stream",
     "text": [
      "Aprovado no exame\n"
     ]
    }
   ],
   "source": [
    "m1 = float(input('Digite a nota M1:'))\n",
    "m2 = float(input('Digite a nota M2:'))\n",
    "m3 = float(input('Digite a nota M3:'))\n",
    "\n",
    "print('\\n')\n",
    "\n",
    "media = (m1 + m2 + m3)/3\n",
    "print(f'Média: {media}')\n",
    "\n",
    "if 0 <= media < 4.1:\n",
    "    print('Reprovado')\n",
    "elif 4.1 <= media <= 6:\n",
    "    print('Pegou o exame')\n",
    "    exame = float(input('Digite a nota do exame:'))\n",
    "    if exame > 6:\n",
    "        print('Aprovado no exame')\n",
    "    else:\n",
    "        print('Reprovado no exame')\n",
    "elif media > 6:\n",
    "    print('Aprovado')"
   ]
  },
  {
   "cell_type": "code",
   "execution_count": null,
   "id": "latin-newcastle",
   "metadata": {},
   "outputs": [],
   "source": []
  }
 ],
 "metadata": {
  "kernelspec": {
   "display_name": "Python 3",
   "language": "python",
   "name": "python3"
  },
  "language_info": {
   "codemirror_mode": {
    "name": "ipython",
    "version": 3
   },
   "file_extension": ".py",
   "mimetype": "text/x-python",
   "name": "python",
   "nbconvert_exporter": "python",
   "pygments_lexer": "ipython3",
   "version": "3.8.10"
  }
 },
 "nbformat": 4,
 "nbformat_minor": 5
}
