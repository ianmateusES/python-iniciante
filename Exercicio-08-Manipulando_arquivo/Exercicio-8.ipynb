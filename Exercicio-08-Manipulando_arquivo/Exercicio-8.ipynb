{
 "cells": [
  {
   "cell_type": "markdown",
   "id": "medieval-edmonton",
   "metadata": {},
   "source": [
    "# Exercício 8"
   ]
  },
  {
   "cell_type": "markdown",
   "id": "deluxe-appliance",
   "metadata": {},
   "source": [
    "## 1. Considerando o dicionário com o nome dos alunos e suas respectivas notas abaixo, crie uma estrutura de repetição para percorrer cada elemento do dicionário para gravar cada aluno em um novo arquivo de texto\n",
    "\n",
    "- Cada aluno deve ocupar uma linha do novo arquivo de texto\n",
    "- O formato deve ser: nome,nota (Pedro,8.0)\n",
    "- Após a criação do arquivo de texto, faça a leitura do arquivo e mostre todos os alunos"
   ]
  },
  {
   "cell_type": "code",
   "execution_count": 1,
   "id": "paperback-plain",
   "metadata": {},
   "outputs": [],
   "source": [
    "alunos = {'Pedro': 8.0, 'Maria': 10.0, 'Amilton': 7.5}"
   ]
  },
  {
   "cell_type": "code",
   "execution_count": 5,
   "id": "tired-edmonton",
   "metadata": {},
   "outputs": [],
   "source": [
    "with open('text.txt', 'w') as text:\n",
    "    for aluno, nota in alunos.items():\n",
    "        text.write(f'{aluno}, {nota}\\n')"
   ]
  },
  {
   "cell_type": "code",
   "execution_count": 6,
   "id": "balanced-spencer",
   "metadata": {},
   "outputs": [
    {
     "name": "stdout",
     "output_type": "stream",
     "text": [
      "Pedro, 8.0\n",
      "\n",
      "Maria, 10.0\n",
      "\n",
      "Amilton, 7.5\n",
      "\n"
     ]
    }
   ],
   "source": [
    "with open('text.txt', 'r') as text:\n",
    "    for line in text:\n",
    "        print(line)"
   ]
  },
  {
   "cell_type": "code",
   "execution_count": null,
   "id": "knowing-symbol",
   "metadata": {},
   "outputs": [],
   "source": []
  }
 ],
 "metadata": {
  "kernelspec": {
   "display_name": "Python 3",
   "language": "python",
   "name": "python3"
  },
  "language_info": {
   "codemirror_mode": {
    "name": "ipython",
    "version": 3
   },
   "file_extension": ".py",
   "mimetype": "text/x-python",
   "name": "python",
   "nbconvert_exporter": "python",
   "pygments_lexer": "ipython3",
   "version": "3.8.10"
  }
 },
 "nbformat": 4,
 "nbformat_minor": 5
}
