{
 "cells": [
  {
   "cell_type": "markdown",
   "id": "apart-listing",
   "metadata": {},
   "source": [
    "# Exercício 5"
   ]
  },
  {
   "cell_type": "markdown",
   "id": "weekly-chaos",
   "metadata": {},
   "source": [
    "## 1. Ler uma temperatura em graus Celsius e apresentá-la convertida em graus Fahrenheit. A fórmula de conversão é F = (9 * C + 160) / 5, na qual F é a temperatura em Fahrenheit e C é a temperatura em graus Celsius\n",
    "\n",
    "- Função para ler e retorna o valor da temperatura (não recebe parâmetro)\n",
    "- Função para fazer o cálculo (recebe como parâmetro a temperatura em graus Celsius)\n",
    "- Função para mostrar o resultado, recebendo como parâmetro o valor e fazendo a impressão"
   ]
  },
  {
   "cell_type": "code",
   "execution_count": 2,
   "id": "attempted-documentary",
   "metadata": {},
   "outputs": [],
   "source": [
    "def read_input():\n",
    "    return float(input('Digite a temperatura em Celsius:'))"
   ]
  },
  {
   "cell_type": "code",
   "execution_count": 3,
   "id": "considered-desperate",
   "metadata": {},
   "outputs": [],
   "source": [
    "def fahrenheit(celsius: float):\n",
    "    return (9 * celsius + 160) / 5"
   ]
  },
  {
   "cell_type": "code",
   "execution_count": 6,
   "id": "legendary-money",
   "metadata": {},
   "outputs": [],
   "source": [
    "def print_celsius(valor):\n",
    "    print(f'{valor} °F')"
   ]
  },
  {
   "cell_type": "code",
   "execution_count": 7,
   "id": "associate-single",
   "metadata": {},
   "outputs": [
    {
     "name": "stdin",
     "output_type": "stream",
     "text": [
      "Digite a temperatura em Celsius: 29\n"
     ]
    },
    {
     "name": "stdout",
     "output_type": "stream",
     "text": [
      "84.2 °F\n"
     ]
    }
   ],
   "source": [
    "celsius = read_input()\n",
    "f = fahrenheit(celsius)\n",
    "print_celsius(f)"
   ]
  },
  {
   "cell_type": "code",
   "execution_count": null,
   "id": "grave-facing",
   "metadata": {},
   "outputs": [],
   "source": []
  },
  {
   "cell_type": "markdown",
   "id": "limited-shareware",
   "metadata": {},
   "source": [
    "## 2. Efetuar o cálculo da quantidade de litros de combustível gasto em uma viagem, utilizando um automóvel que faz 12 Km por litro. Para obter o cálculo, o usuário deve fornecer o tempo gasto na viagem e a velocidade média durante ela. Desta forma, será possível obter a distância percorrida com a fórmula DISTANCIA = TEMPO * VELOCIDADE. Tendo o valor da distância, basta calcular a quantidade de litros de combustível utilizada na viagem, com a fórmula: LITROS_USADOS = DISTANCIA / 12. O programa deve apresentar os valores da velocidade média, tempo gasto na viagem, a distância percorrida e a quantidade de litros utilizada na viagem\n",
    "\n",
    "- Função para ler os valores (não recebe parâmetro e retorna os dois valores)\n",
    "- Função para calcular a distância (recebe como parâmetro o tempo e a velocidade e retorna a distância)\n",
    "- Função para calcular a quantidade de litros (recebe como parâmetro a distância e retorna os litros)\n",
    "- Função para apresentar o resultado (recebe como parâmetro os valores e somente imprime o resultado)"
   ]
  },
  {
   "cell_type": "code",
   "execution_count": 12,
   "id": "mental-parks",
   "metadata": {},
   "outputs": [],
   "source": [
    "def read_input():\n",
    "    velocidade = float(input('Digite a velocidade:'))\n",
    "    tempo = float(input('Digite a tempo:'))\n",
    "    return velocidade, tempo"
   ]
  },
  {
   "cell_type": "code",
   "execution_count": 13,
   "id": "psychological-official",
   "metadata": {},
   "outputs": [],
   "source": [
    "def calculate_distance(velocidade, tempo):\n",
    "    return velocidade * tempo"
   ]
  },
  {
   "cell_type": "code",
   "execution_count": 14,
   "id": "small-devil",
   "metadata": {},
   "outputs": [],
   "source": [
    "def calculate_liter(distancia):\n",
    "    return distancia/12"
   ]
  },
  {
   "cell_type": "code",
   "execution_count": 19,
   "id": "useful-boutique",
   "metadata": {},
   "outputs": [],
   "source": [
    "def print_result(distancia, litro):\n",
    "    print(f'Distancia: {distancia}')\n",
    "    print(f'Litros: {litro}')"
   ]
  },
  {
   "cell_type": "code",
   "execution_count": 20,
   "id": "united-cleanup",
   "metadata": {},
   "outputs": [
    {
     "name": "stdin",
     "output_type": "stream",
     "text": [
      "Digite a velocidade: 90\n",
      "Digite a tempo: 60\n"
     ]
    },
    {
     "name": "stdout",
     "output_type": "stream",
     "text": [
      "Distancia: 5400.0\n",
      "Litros: 450.0\n"
     ]
    }
   ],
   "source": [
    "velocidade, tempo = read_input()\n",
    "distancia = calculate_distance(velocidade, tempo)\n",
    "litro = calculate_liter(distancia)\n",
    "print_result(distancia, litro)"
   ]
  },
  {
   "cell_type": "code",
   "execution_count": null,
   "id": "intensive-intent",
   "metadata": {},
   "outputs": [],
   "source": []
  }
 ],
 "metadata": {
  "kernelspec": {
   "display_name": "Python 3",
   "language": "python",
   "name": "python3"
  },
  "language_info": {
   "codemirror_mode": {
    "name": "ipython",
    "version": 3
   },
   "file_extension": ".py",
   "mimetype": "text/x-python",
   "name": "python",
   "nbconvert_exporter": "python",
   "pygments_lexer": "ipython3",
   "version": "3.8.10"
  }
 },
 "nbformat": 4,
 "nbformat_minor": 5
}
