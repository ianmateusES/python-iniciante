{
 "cells": [
  {
   "cell_type": "markdown",
   "id": "approximate-values",
   "metadata": {},
   "source": [
    "# Exercicio 1"
   ]
  },
  {
   "cell_type": "markdown",
   "id": "european-combat",
   "metadata": {},
   "source": [
    "## 1. Ler dois números inteiros, executar e mostrar o resultado das seguintes operações: adição, subtração, multiplicação e divisão"
   ]
  },
  {
   "cell_type": "code",
   "execution_count": 1,
   "id": "optional-annex",
   "metadata": {},
   "outputs": [
    {
     "name": "stdin",
     "output_type": "stream",
     "text": [
      "Insira o primeiro número 10\n",
      "Insira o segundo número 10\n"
     ]
    },
    {
     "name": "stdout",
     "output_type": "stream",
     "text": [
      "10.0 + 10.0 = 20.0\n",
      "10.0 - 10.0 = 0.0\n",
      "10.0 x 10.0 = 100.0\n",
      "10.0 / 10.0 = 1.0\n"
     ]
    }
   ],
   "source": [
    "# Leitura dos números\n",
    "n1 = float(input('Digite o primeiro número'))\n",
    "n2 = float(input('Digite o segundo número'))\n",
    "\n",
    "print('\\n')\n",
    "\n",
    "# Realiza as operações\n",
    "print(f'{n1} + {n2} = {n1+n2}')\n",
    "print(f'{n1} - {n2} = {n1-n2}')\n",
    "print(f'{n1} x {n2} = {n1*n2}')\n",
    "\n",
    "if n2 != 0:\n",
    "    print(f'{n1} / {n2} = {n1/n2}')"
   ]
  },
  {
   "cell_type": "code",
   "execution_count": null,
   "id": "saving-amateur",
   "metadata": {},
   "outputs": [],
   "source": []
  },
  {
   "cell_type": "markdown",
   "id": "powered-millennium",
   "metadata": {},
   "source": [
    "## 2. Efetuar o cálculo da quantidade de litros de combustível gasto em uma viagem, utilizando um automóvel que faz 12 Km por litro. Para obter o cálculo, o usuário deve fornecer o tempo gasto na viagem e a velocidade média durante ela. Desta forma, será possível obter a distância percorrida com a fórmula DISTANCIA = TEMPO * VELOCIDADE. Tendo o valor da distância, basta calcular a quantidade de litros de combustível utilizada na viagem, com a fórmula: LITROS_USADOS = DISTANCIA / 12. O programa deve apresentar os valores da velocidade média, tempo gasto na viagem, a distância percorrida e a quantidade de litros utilizada na viagem"
   ]
  },
  {
   "cell_type": "code",
   "execution_count": null,
   "id": "finished-apartment",
   "metadata": {},
   "outputs": [],
   "source": []
  },
  {
   "cell_type": "code",
   "execution_count": null,
   "id": "magnetic-affiliation",
   "metadata": {},
   "outputs": [],
   "source": []
  }
 ],
 "metadata": {
  "kernelspec": {
   "display_name": "Python 3",
   "language": "python",
   "name": "python3"
  },
  "language_info": {
   "codemirror_mode": {
    "name": "ipython",
    "version": 3
   },
   "file_extension": ".py",
   "mimetype": "text/x-python",
   "name": "python",
   "nbconvert_exporter": "python",
   "pygments_lexer": "ipython3",
   "version": "3.8.10"
  }
 },
 "nbformat": 4,
 "nbformat_minor": 5
}
