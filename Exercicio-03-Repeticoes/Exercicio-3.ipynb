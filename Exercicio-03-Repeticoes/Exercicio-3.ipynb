{
 "cells": [
  {
   "cell_type": "markdown",
   "id": "charming-affair",
   "metadata": {},
   "source": [
    "# Exercício 3"
   ]
  },
  {
   "cell_type": "markdown",
   "id": "occasional-adaptation",
   "metadata": {},
   "source": [
    "## 1. Ler 5 notas e informar a média"
   ]
  },
  {
   "cell_type": "code",
   "execution_count": 4,
   "id": "informative-incident",
   "metadata": {},
   "outputs": [
    {
     "name": "stdin",
     "output_type": "stream",
     "text": [
      "Digite a nota 1: 10\n",
      "Digite a nota 2: 10\n",
      "Digite a nota 3: 10\n",
      "Digite a nota 4: 10\n",
      "Digite a nota 5: 10\n"
     ]
    },
    {
     "name": "stdout",
     "output_type": "stream",
     "text": [
      "\n",
      "\n",
      "Média: 10.0\n"
     ]
    }
   ],
   "source": [
    "notas = []\n",
    "for i in range(1, 6):\n",
    "    notas.append(float(input(f'Digite a nota {i}:')))\n",
    "\n",
    "print('\\n')\n",
    "print(f'Média: {sum(notas)/len(notas)}')"
   ]
  },
  {
   "cell_type": "code",
   "execution_count": null,
   "id": "assured-target",
   "metadata": {},
   "outputs": [],
   "source": []
  },
  {
   "cell_type": "markdown",
   "id": "descending-genius",
   "metadata": {},
   "source": [
    "## 2. Imprimir a tabuada do número 3 (3 x 1 = 1 – 3 x 10 = 30)"
   ]
  },
  {
   "cell_type": "code",
   "execution_count": 5,
   "id": "overall-nomination",
   "metadata": {},
   "outputs": [
    {
     "name": "stdout",
     "output_type": "stream",
     "text": [
      "3 x 1 = 3\n",
      "3 x 2 = 6\n",
      "3 x 3 = 9\n",
      "3 x 4 = 12\n",
      "3 x 5 = 15\n",
      "3 x 6 = 18\n",
      "3 x 7 = 21\n",
      "3 x 8 = 24\n",
      "3 x 9 = 27\n",
      "3 x 10 = 30\n"
     ]
    }
   ],
   "source": [
    "for i in range(1, 11):\n",
    "    print(f'3 x {i} = {3*i}')"
   ]
  },
  {
   "cell_type": "code",
   "execution_count": null,
   "id": "mature-falls",
   "metadata": {},
   "outputs": [],
   "source": []
  }
 ],
 "metadata": {
  "kernelspec": {
   "display_name": "Python 3",
   "language": "python",
   "name": "python3"
  },
  "language_info": {
   "codemirror_mode": {
    "name": "ipython",
    "version": 3
   },
   "file_extension": ".py",
   "mimetype": "text/x-python",
   "name": "python",
   "nbconvert_exporter": "python",
   "pygments_lexer": "ipython3",
   "version": "3.8.10"
  }
 },
 "nbformat": 4,
 "nbformat_minor": 5
}
