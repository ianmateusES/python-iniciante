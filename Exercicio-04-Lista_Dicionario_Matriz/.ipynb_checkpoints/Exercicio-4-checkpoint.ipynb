{
 "cells": [
  {
   "cell_type": "markdown",
   "id": "employed-desert",
   "metadata": {},
   "source": [
    "# Exercício 4"
   ]
  },
  {
   "cell_type": "code",
   "execution_count": 4,
   "id": "soviet-marsh",
   "metadata": {},
   "outputs": [],
   "source": [
    "import numpy as np"
   ]
  },
  {
   "cell_type": "markdown",
   "id": "southwest-tourist",
   "metadata": {},
   "source": [
    "## 1. Lista: Crie uma estrutura de repetição para fazer a leitura de 5 números inteiros e os armazene dentro de uma lista. Após a leitura, crie outra estrutura de repetição para somar todos os valores digitados"
   ]
  },
  {
   "cell_type": "code",
   "execution_count": 1,
   "id": "balanced-christianity",
   "metadata": {},
   "outputs": [
    {
     "name": "stdin",
     "output_type": "stream",
     "text": [
      "Digite o número 1: 10\n",
      "Digite o número 2: 10\n",
      "Digite o número 3: 10\n",
      "Digite o número 4: 5\n",
      "Digite o número 5: 5\n"
     ]
    },
    {
     "name": "stdout",
     "output_type": "stream",
     "text": [
      "Somatorio: 40\n"
     ]
    }
   ],
   "source": [
    "numeros = []\n",
    "\n",
    "for _ in range(1, 6):\n",
    "    numeros.append(int(input(f'Digite o número {i}:')))\n",
    "    \n",
    "soma = 0\n",
    "for i in range(len(numeros)):\n",
    "    soma += numeros[i]\n",
    "    \n",
    "print(f'Somatório: {soma}')"
   ]
  },
  {
   "cell_type": "code",
   "execution_count": null,
   "id": "polar-yorkshire",
   "metadata": {},
   "outputs": [],
   "source": []
  },
  {
   "cell_type": "markdown",
   "id": "southwest-romance",
   "metadata": {},
   "source": [
    "## 2. Dicionário: Crie um dicionário para armazenar o nome e a nota de 3 alunos, fazendo a leitura dos valores por meio de uma estrutura de repetição. Depois, crie uma nova estrutura de repetição para somar todas as notas e retornar a média"
   ]
  },
  {
   "cell_type": "code",
   "execution_count": 2,
   "id": "color-strap",
   "metadata": {},
   "outputs": [
    {
     "name": "stdin",
     "output_type": "stream",
     "text": [
      "Nome do aluno: Ian\n",
      "Nota do aluno: 10\n",
      "Nome do aluno: Mateus\n",
      "Nota do aluno: 8\n",
      "Nome do aluno: Torres\n",
      "Nota do aluno: 8\n"
     ]
    },
    {
     "name": "stdout",
     "output_type": "stream",
     "text": [
      "Somatório: 26\n"
     ]
    }
   ],
   "source": [
    "alunos_nota = {}\n",
    "for _ in range(0, 3):\n",
    "    nome = input('Nome do aluno:')\n",
    "    nota = int(input('Nota do aluno:'))\n",
    "    alunos_nota[nome] = nota\n",
    "\n",
    "soma = 0\n",
    "for nota in alunos_nota.values():\n",
    "    soma += nota\n",
    "\n",
    "print(f'Somatório: {soma}')"
   ]
  },
  {
   "cell_type": "code",
   "execution_count": null,
   "id": "skilled-basement",
   "metadata": {},
   "outputs": [],
   "source": []
  },
  {
   "cell_type": "markdown",
   "id": "forced-complement",
   "metadata": {},
   "source": [
    "## 3. Matriz: Dada a matriz abaixo, construa uma estrutura de repetição para percorrer e somar todos os elementos da matriz"
   ]
  },
  {
   "cell_type": "code",
   "execution_count": 5,
   "id": "speaking-worship",
   "metadata": {},
   "outputs": [],
   "source": [
    "matriz = np.array([[3, 4, 1],\n",
    "                   [3, 1, 5]])"
   ]
  },
  {
   "cell_type": "code",
   "execution_count": 7,
   "id": "gross-graduation",
   "metadata": {},
   "outputs": [
    {
     "name": "stdout",
     "output_type": "stream",
     "text": [
      "Somatório: 17\n"
     ]
    }
   ],
   "source": [
    "soma = 0\n",
    "for i in range(matriz.shape[0]):\n",
    "    for j in range(matriz.shape[1]):\n",
    "        soma += matriz[i][j]\n",
    "\n",
    "print(f'Somatório: {soma}')"
   ]
  },
  {
   "cell_type": "code",
   "execution_count": null,
   "id": "comfortable-folder",
   "metadata": {},
   "outputs": [],
   "source": []
  }
 ],
 "metadata": {
  "kernelspec": {
   "display_name": "Python 3",
   "language": "python",
   "name": "python3"
  },
  "language_info": {
   "codemirror_mode": {
    "name": "ipython",
    "version": 3
   },
   "file_extension": ".py",
   "mimetype": "text/x-python",
   "name": "python",
   "nbconvert_exporter": "python",
   "pygments_lexer": "ipython3",
   "version": "3.8.10"
  }
 },
 "nbformat": 4,
 "nbformat_minor": 5
}
