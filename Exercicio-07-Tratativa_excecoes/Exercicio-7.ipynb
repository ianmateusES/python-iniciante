{
 "cells": [
  {
   "cell_type": "markdown",
   "id": "smoking-click",
   "metadata": {},
   "source": [
    "# Exercício 7"
   ]
  },
  {
   "cell_type": "markdown",
   "id": "northern-voluntary",
   "metadata": {},
   "source": [
    "## Crie uma lista vazia e faça a leitura de dois valores do tipo float, colocando cada um dos valores nas primeiras posições da lista (o valor1 ficará na posição 0 da lista e o valor2 ficará na posição 1 da lista). Faça a divisão dos dois valores e trate as seguintes exceções:\n",
    "\n",
    "- ValueError: se o usuário digitar um caracter\n",
    "- ZeroDivisionError: se o usuário digitar zero e ocorrer erro na divisão\n",
    "- IndexError: caso a divisão seja feita levando em consideração posições que não existem na lista\n",
    "- KeyboardInterrupt: caso o usuário interrompa a execução\n",
    "\n",
    "Mostre uma mensagem personalizada na ocorrência de cada um desses erros"
   ]
  },
  {
   "cell_type": "code",
   "execution_count": 5,
   "id": "every-eclipse",
   "metadata": {},
   "outputs": [
    {
     "name": "stdin",
     "output_type": "stream",
     "text": [
      "Digite o valor 1: 10\n",
      "Digite o valor 2: 5\n"
     ]
    },
    {
     "name": "stdout",
     "output_type": "stream",
     "text": [
      "Resultado da divisão: 2.0\n"
     ]
    }
   ],
   "source": [
    "l = []\n",
    "try:\n",
    "    l.append(float(input('Digite o valor 1:')))\n",
    "    l.append(float(input('Digite o valor 2:')))\n",
    "    div = l[0] / l[1]\n",
    "except ValueError:\n",
    "    print('Valor inválido')\n",
    "except ZeroDivisionError:\n",
    "    print('Denominador não pode ser 0')\n",
    "except IndexError:\n",
    "    print('Índice invalido')\n",
    "except KeyboardInterrupt:\n",
    "    print('Usuário interrompeu a execução')\n",
    "else:\n",
    "    print(f'Resultado da divisão: {div}')"
   ]
  },
  {
   "cell_type": "code",
   "execution_count": null,
   "id": "difficult-conducting",
   "metadata": {},
   "outputs": [],
   "source": []
  },
  {
   "cell_type": "code",
   "execution_count": null,
   "id": "documentary-television",
   "metadata": {},
   "outputs": [],
   "source": []
  },
  {
   "cell_type": "code",
   "execution_count": null,
   "id": "instant-right",
   "metadata": {},
   "outputs": [],
   "source": []
  }
 ],
 "metadata": {
  "kernelspec": {
   "display_name": "Python 3",
   "language": "python",
   "name": "python3"
  },
  "language_info": {
   "codemirror_mode": {
    "name": "ipython",
    "version": 3
   },
   "file_extension": ".py",
   "mimetype": "text/x-python",
   "name": "python",
   "nbconvert_exporter": "python",
   "pygments_lexer": "ipython3",
   "version": "3.8.10"
  }
 },
 "nbformat": 4,
 "nbformat_minor": 5
}
