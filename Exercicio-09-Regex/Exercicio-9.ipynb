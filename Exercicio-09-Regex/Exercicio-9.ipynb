{
 "cells": [
  {
   "cell_type": "markdown",
   "id": "visible-mixer",
   "metadata": {},
   "source": [
    "# Exercício 9"
   ]
  },
  {
   "cell_type": "markdown",
   "id": "elegant-magnitude",
   "metadata": {},
   "source": [
    "## 1. Crie expressões regulares para extrair as seguintes informações do texto abaixo (use a função findall):\n",
    "\n",
    "- Números\n",
    "- CEPs\n",
    "- URLs"
   ]
  },
  {
   "cell_type": "code",
   "execution_count": 1,
   "id": "retired-scale",
   "metadata": {},
   "outputs": [],
   "source": [
    "import re"
   ]
  },
  {
   "cell_type": "code",
   "execution_count": 8,
   "id": "rational-above",
   "metadata": {},
   "outputs": [
    {
     "data": {
      "text/plain": [
       "['2', '3']"
      ]
     },
     "execution_count": 8,
     "metadata": {},
     "output_type": "execute_result"
    }
   ],
   "source": [
    "# Números\n",
    "frase = 'Olá, me chamo Ian e tenho 23 anos'\n",
    "re.findall('\\d', frase)"
   ]
  },
  {
   "cell_type": "code",
   "execution_count": 9,
   "id": "controlled-andrews",
   "metadata": {},
   "outputs": [
    {
     "data": {
      "text/plain": [
       "['60170-320']"
      ]
     },
     "execution_count": 9,
     "metadata": {},
     "output_type": "execute_result"
    }
   ],
   "source": [
    "# Encontrar CEPs\n",
    "frase = 'Olá, me chamo Ian e moro no endereço de CEP 60170-320'\n",
    "re.findall('\\d{5}-\\d{3}', frase)"
   ]
  },
  {
   "cell_type": "code",
   "execution_count": 12,
   "id": "known-venture",
   "metadata": {},
   "outputs": [
    {
     "data": {
      "text/plain": [
       "['http://localhost.com.br', 'https://localhost2.com']"
      ]
     },
     "execution_count": 12,
     "metadata": {},
     "output_type": "execute_result"
    }
   ],
   "source": [
    "# Encontrar URLs\n",
    "frase = 'Olá, meu nome é Ian e tenho um site http://localhost.com.br e https://localhost2.com'\n",
    "re.findall('https?://[A-Za-z0-9./]+', frase)"
   ]
  },
  {
   "cell_type": "code",
   "execution_count": null,
   "id": "quantitative-gross",
   "metadata": {},
   "outputs": [],
   "source": []
  }
 ],
 "metadata": {
  "kernelspec": {
   "display_name": "Python 3",
   "language": "python",
   "name": "python3"
  },
  "language_info": {
   "codemirror_mode": {
    "name": "ipython",
    "version": 3
   },
   "file_extension": ".py",
   "mimetype": "text/x-python",
   "name": "python",
   "nbconvert_exporter": "python",
   "pygments_lexer": "ipython3",
   "version": "3.8.10"
  }
 },
 "nbformat": 4,
 "nbformat_minor": 5
}
