{
 "cells": [
  {
   "cell_type": "markdown",
   "id": "experimental-automation",
   "metadata": {},
   "source": [
    "# Exercício 10"
   ]
  },
  {
   "cell_type": "markdown",
   "id": "played-hotel",
   "metadata": {},
   "source": [
    "## 1. Crie uma classe chamada aluno com os seguintes atributos:\n",
    "\n",
    "- Nome\n",
    "- Nota 1\n",
    "- Nota 2\n",
    "- Crie um construtor para a classe (__init__)\n",
    "\n",
    "## 2. Crie as seguintes funções (métodos):\n",
    "- Calcula média, retornando a média aritmética entre as notas\n",
    "- Mostra dados, que somente imprime o valor de todos os atributos\n",
    "- Resultado, que verifica se o aluno está aprovado ou reprovado (se a média for maior ou igual a 6.0, o aluno está aprovado)\n",
    "\n",
    "Crie dois objetos (aluno1 e aluno2) e teste as funções"
   ]
  },
  {
   "cell_type": "code",
   "execution_count": 4,
   "id": "accessible-crest",
   "metadata": {},
   "outputs": [],
   "source": [
    "class Aluno:\n",
    "    def __init__(self, nome, nota1, nota2, nota3):\n",
    "        self.nome = nome\n",
    "        self.nota1 = nota1\n",
    "        self.nota2 = nota2\n",
    "        self.nota3 = nota3\n",
    "    \n",
    "    def mean(self):\n",
    "        return (self.nota1 + self.nota2 + self.nota3) / 3\n",
    "    \n",
    "    def print_values(self):\n",
    "        print('Nome:', self.nome)\n",
    "        print('Nota 1:', self.nota1)\n",
    "        print('Nota 2:', self.nota2)\n",
    "        print('Nota 3:', self.nota3)\n",
    "        \n",
    "    def result(self):\n",
    "        media = self.mean()\n",
    "        if media > 6:\n",
    "            print('Aprovado')\n",
    "        else:\n",
    "            print('Reprovado')"
   ]
  },
  {
   "cell_type": "code",
   "execution_count": 5,
   "id": "cardiac-alfred",
   "metadata": {},
   "outputs": [
    {
     "name": "stdout",
     "output_type": "stream",
     "text": [
      "Média: 9.333333333333334\n",
      "Nome: Ian\n",
      "Nota 1: 10\n",
      "Nota 2: 10\n",
      "Nota 3: 8\n",
      "Aprovado\n"
     ]
    }
   ],
   "source": [
    "aluno1 = Aluno('Ian', 10, 10, 8)\n",
    "\n",
    "print('Média:', aluno1.mean())\n",
    "aluno1.print_values()\n",
    "aluno1.result()"
   ]
  },
  {
   "cell_type": "code",
   "execution_count": null,
   "id": "still-insert",
   "metadata": {},
   "outputs": [],
   "source": []
  },
  {
   "cell_type": "code",
   "execution_count": 7,
   "id": "attached-article",
   "metadata": {},
   "outputs": [
    {
     "name": "stdout",
     "output_type": "stream",
     "text": [
      "Média: 6.0\n",
      "Nome: Mateus\n",
      "Nota 1: 8\n",
      "Nota 2: 6\n",
      "Nota 3: 4\n",
      "Reprovado\n"
     ]
    }
   ],
   "source": [
    "aluno2 = Aluno('Mateus', 8, 6, 4)\n",
    "\n",
    "print('Média:', aluno2.mean())\n",
    "aluno2.print_values()\n",
    "aluno2.result()"
   ]
  },
  {
   "cell_type": "code",
   "execution_count": null,
   "id": "unnecessary-attraction",
   "metadata": {},
   "outputs": [],
   "source": []
  }
 ],
 "metadata": {
  "kernelspec": {
   "display_name": "Python 3",
   "language": "python",
   "name": "python3"
  },
  "language_info": {
   "codemirror_mode": {
    "name": "ipython",
    "version": 3
   },
   "file_extension": ".py",
   "mimetype": "text/x-python",
   "name": "python",
   "nbconvert_exporter": "python",
   "pygments_lexer": "ipython3",
   "version": "3.8.10"
  }
 },
 "nbformat": 4,
 "nbformat_minor": 5
}
