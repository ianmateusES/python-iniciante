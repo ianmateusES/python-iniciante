{
 "cells": [
  {
   "cell_type": "markdown",
   "id": "alert-subscriber",
   "metadata": {},
   "source": [
    "# Exercício 6"
   ]
  },
  {
   "cell_type": "markdown",
   "id": "cordless-child",
   "metadata": {},
   "source": [
    "## 1. Crie um arquivo .py com duas funções\n",
    "- Função para ler um string (recebe como parâmetro uma mensagem e retorna o que o usuário digitou)\n",
    "- Função para ler um número float (recebe como parâmetro uma mensagem e retorna o que o usuário digitou)\n",
    "\n",
    "## 2. Importar o arquivo criado no Google Colab e testar as funções"
   ]
  },
  {
   "cell_type": "code",
   "execution_count": 1,
   "id": "greatest-imaging",
   "metadata": {},
   "outputs": [],
   "source": [
    "import utilitarios as ut"
   ]
  },
  {
   "cell_type": "code",
   "execution_count": 2,
   "id": "described-rover",
   "metadata": {},
   "outputs": [
    {
     "name": "stdin",
     "output_type": "stream",
     "text": [
      "Digite a nome Ian\n"
     ]
    },
    {
     "data": {
      "text/plain": [
       "'Ian'"
      ]
     },
     "execution_count": 2,
     "metadata": {},
     "output_type": "execute_result"
    }
   ],
   "source": [
    "ut.read_string('Digite a nome')"
   ]
  },
  {
   "cell_type": "code",
   "execution_count": 3,
   "id": "handed-shelter",
   "metadata": {},
   "outputs": [
    {
     "name": "stdin",
     "output_type": "stream",
     "text": [
      "Digite a nota 5.9\n"
     ]
    },
    {
     "data": {
      "text/plain": [
       "5.9"
      ]
     },
     "execution_count": 3,
     "metadata": {},
     "output_type": "execute_result"
    }
   ],
   "source": [
    "ut.read_float('Digite a nota')"
   ]
  },
  {
   "cell_type": "code",
   "execution_count": null,
   "id": "crucial-mailing",
   "metadata": {},
   "outputs": [],
   "source": []
  }
 ],
 "metadata": {
  "kernelspec": {
   "display_name": "Python 3",
   "language": "python",
   "name": "python3"
  },
  "language_info": {
   "codemirror_mode": {
    "name": "ipython",
    "version": 3
   },
   "file_extension": ".py",
   "mimetype": "text/x-python",
   "name": "python",
   "nbconvert_exporter": "python",
   "pygments_lexer": "ipython3",
   "version": "3.8.10"
  }
 },
 "nbformat": 4,
 "nbformat_minor": 5
}
